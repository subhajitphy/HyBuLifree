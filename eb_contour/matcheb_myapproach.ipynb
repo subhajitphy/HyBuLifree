{
 "cells": [
  {
   "cell_type": "code",
   "execution_count": 1,
   "id": "316d6f53",
   "metadata": {},
   "outputs": [],
   "source": [
    "import os\n",
    "os.chdir('../gwhyp/')\n",
    "import pycbc.waveform\n",
    "from pycbc.waveform import td_approximants\n",
    "import os\n",
    "import matplotlib.pyplot as plt\n",
    "import pylab\n",
    "from pycbc.filter import match\n",
    "import numpy as np\n",
    "from pycbc.psd import aLIGOZeroDetHighPower\n",
    "from constants import *\n",
    "from tqdm import tqdm\n",
    "from pycbc.waveform import get_td_waveform\n",
    "from multiprocess import Pool\n",
    "import pickle\n",
    "\n",
    "from hyp_td_waveform_v2 import get_hyp_waveform\n",
    "os.chdir('../eb_contour/')"
   ]
  },
  {
   "cell_type": "code",
   "execution_count": 2,
   "id": "87d2af13",
   "metadata": {},
   "outputs": [],
   "source": [
    "approximant = 'HyperbolicTD'"
   ]
  },
  {
   "cell_type": "code",
   "execution_count": 3,
   "id": "a6fa8fad",
   "metadata": {},
   "outputs": [],
   "source": [
    "f_lower = 10\n",
    "delta_t = 1./1024\n",
    "inc=pi/3\n",
    "distance=1e6*pc\n",
    "order=3\n",
    "f_lower = 10\n",
    "matchfactor=0.99"
   ]
  },
  {
   "cell_type": "code",
   "execution_count": 4,
   "id": "0f6c73dd",
   "metadata": {},
   "outputs": [],
   "source": [
    "M=40;ecc=1.2;impact=60;q=1\n",
    "arrlen=50"
   ]
  },
  {
   "cell_type": "code",
   "execution_count": 5,
   "id": "567ea819",
   "metadata": {},
   "outputs": [],
   "source": [
    "hp,hc=get_hyp_waveform(M,q,ecc, impact,  delta_t, inc, distance, order)"
   ]
  },
  {
   "cell_type": "code",
   "execution_count": 6,
   "id": "79a14854",
   "metadata": {},
   "outputs": [],
   "source": [
    "psd = aLIGOZeroDetHighPower(len(hc) // 2 + 1, 1.0 / hc.duration, f_lower)"
   ]
  },
  {
   "cell_type": "code",
   "execution_count": 7,
   "id": "9b2b9b43",
   "metadata": {},
   "outputs": [],
   "source": [
    "eccs=np.linspace(1.07,1.45,arrlen)\n",
    "impacts = np.linspace(40,100,arrlen)\n",
    "eccs,impacts=np.meshgrid(eccs,impacts)"
   ]
  },
  {
   "cell_type": "code",
   "execution_count": 8,
   "id": "e8f2a4d0",
   "metadata": {},
   "outputs": [],
   "source": [
    "def cal_match_eb(e,b):\n",
    "\n",
    "    hp2,hc2=get_hyp_waveform(M,q,e, b,  delta_t, inc, distance, order)\n",
    "    hc2 = hc2[:len(hc)] if len(hc) < len(hc2) else hc2\n",
    "    hc2.resize(len(hc))\n",
    "\n",
    "    m, idx = match(hc, hc2, psd=psd, low_frequency_cutoff=f_lower)\n",
    "    return m"
   ]
  },
  {
   "cell_type": "code",
   "execution_count": 9,
   "id": "4ee7b164",
   "metadata": {},
   "outputs": [],
   "source": [
    "fn='file_M_'+str(M)+'_ref_M'+str(ecc)+'b_'+str(impact)+'_hc2.pkl'\n",
    "os.remove(fn) if os.path.exists(fn) else None  #here fn - filename or filepath"
   ]
  },
  {
   "cell_type": "code",
   "execution_count": 10,
   "id": "7076a2e7",
   "metadata": {},
   "outputs": [],
   "source": [
    "ncore=8\n",
    "arr2=np.zeros((arrlen,arrlen))\n",
    "\n",
    "peakfile = open(fn, 'ab')\n",
    "\n",
    "\n",
    "if __name__ == \"__main__\":\n",
    "\n",
    "    pool = Pool(ncore)\n",
    "    results = pool.map(lambda t : cal_match_eb(t[0],t[1]), \n",
    "                       [(eccs[i][j],impacts[i][j])\n",
    "                        for i in range(arrlen) for j in range(arrlen)] )\n",
    "\n",
    "    pickle.dump(np.array(results).reshape((arrlen,arrlen)),peakfile)\n",
    "    peakfile.close()"
   ]
  },
  {
   "cell_type": "code",
   "execution_count": 11,
   "id": "c3f4a45f",
   "metadata": {},
   "outputs": [],
   "source": [
    "arr2 = pickle.load(open(fn, 'rb'))"
   ]
  },
  {
   "cell_type": "code",
   "execution_count": 12,
   "id": "b5a4eb87",
   "metadata": {},
   "outputs": [
    {
     "data": {
      "image/png": "[encoded data removed]",
      "text/plain": [
       "<Figure size 1000x700 with 1 Axes>"
      ]
     },
     "metadata": {},
     "output_type": "display_data"
    }
   ],
   "source": [
    "fig1=plt.figure(figsize=(10,7))\n",
    "plt.contourf(eccs, impacts, arr2,[0.99,1],alpha=0.1)\n",
    "plt.scatter(ecc,impact)\n",
    "plt.xlabel('e')\n",
    "plt.ylabel('b')\n",
    "plt.title('M='+str(M)+': Subhajit')\n",
    "plt.savefig('file_M_'+str(M)+'_ref_M'+str(ecc)+'b_'+str(impact)+'_hc2.png',dpi=300)\n",
    "plt.show()"
   ]
  },
  {
   "cell_type": "code",
   "execution_count": 13,
   "id": "911ec827",
   "metadata": {},
   "outputs": [
    {
     "data": {
      "text/plain": [
       "'/Users/subhajit/Dropbox/LIGO/Original/tosend/eb_contour'"
      ]
     },
     "execution_count": 13,
     "metadata": {},
     "output_type": "execute_result"
    }
   ],
   "source": [
    "pwd"
   ]
  },
  {
   "cell_type": "code",
   "execution_count": null,
   "id": "60d2f8dc",
   "metadata": {},
   "outputs": [],
   "source": []
  }
 ],
 "metadata": {
  "kernelspec": {
   "display_name": "gwhyp",
   "language": "python",
   "name": "gwhyp"
  },
  "language_info": {
   "codemirror_mode": {
    "name": "ipython",
    "version": 3
   },
   "file_extension": ".py",
   "mimetype": "text/x-python",
   "name": "python",
   "nbconvert_exporter": "python",
   "pygments_lexer": "ipython3",
   "version": "3.10.6"
  }
 },
 "nbformat": 4,
 "nbformat_minor": 5
}

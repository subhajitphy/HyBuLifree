{
 "cells": [
  {
   "cell_type": "code",
   "execution_count": 1,
   "id": "16d3d9f3",
   "metadata": {},
   "outputs": [],
   "source": [
    "import numpy as np\n",
    "\n",
    "mass=40\n",
    "arrlen=20\n",
    "ui=-2;uf=2\n",
    "q=1;\n",
    "# ui=0;uf=0"
   ]
  },
  {
   "cell_type": "code",
   "execution_count": 2,
   "id": "7c12ea4b",
   "metadata": {},
   "outputs": [],
   "source": [
    "eref1=1.25;bref1=80"
   ]
  },
  {
   "cell_type": "code",
   "execution_count": 1,
   "id": "31987170",
   "metadata": {},
   "outputs": [
    {
     "ename": "NameError",
     "evalue": "name 'np' is not defined",
     "output_type": "error",
     "traceback": [
      "\u001b[0;31m---------------------------------------------------------------------------\u001b[0m",
      "\u001b[0;31mNameError\u001b[0m                                 Traceback (most recent call last)",
      "Input \u001b[0;32mIn [1]\u001b[0m, in \u001b[0;36m<cell line: 1>\u001b[0;34m()\u001b[0m\n\u001b[0;32m----> 1\u001b[0m ecc1\u001b[38;5;241m=\u001b[39m\u001b[43mnp\u001b[49m\u001b[38;5;241m.\u001b[39mlinspace(\u001b[38;5;241m1.09\u001b[39m,\u001b[38;5;241m1.3\u001b[39m,arrlen)\n\u001b[1;32m      3\u001b[0m impacts1\u001b[38;5;241m=\u001b[39mnp\u001b[38;5;241m.\u001b[39mlinspace(\u001b[38;5;241m60\u001b[39m,\u001b[38;5;241m100\u001b[39m,arrlen)\n",
      "\u001b[0;31mNameError\u001b[0m: name 'np' is not defined"
     ]
    }
   ],
   "source": [
    "# ecc1=np.linspace(1.09,1.3,arrlen)\n",
    "\n",
    "# impacts1=np.linspace(60,100,arrlen)"
   ]
  },
  {
   "cell_type": "code",
   "execution_count": null,
   "id": "1eed44c9",
   "metadata": {},
   "outputs": [],
   "source": [
    "ecc1=np.linspace(1.09,1.4,arrlen)\n",
    "\n",
    "impacts1=np.linspace(40,150,arrlen)"
   ]
  },
  {
   "cell_type": "code",
   "execution_count": 4,
   "id": "43a0dc9c",
   "metadata": {},
   "outputs": [],
   "source": [
    "# ecc1=np.linspace(1.09,1.4,arrlen)\n",
    "\n",
    "# impacts1=np.linspace(40,150,arrlen)"
   ]
  },
  {
   "cell_type": "code",
   "execution_count": 5,
   "id": "79a847d3",
   "metadata": {},
   "outputs": [],
   "source": [
    "import pycbc.waveform\n",
    "from pycbc.waveform import td_approximants\n",
    "import os\n",
    "import matplotlib.pyplot as plt\n",
    "import pylab\n",
    "from pycbc.filter import match\n",
    "from pycbc.psd import aLIGOZeroDetHighPower\n",
    "#from constants import *\n",
    "from pycbc.waveform import get_td_waveform\n",
    "from multiprocess import Pool\n",
    "import pickle"
   ]
  },
  {
   "cell_type": "code",
   "execution_count": 6,
   "id": "e4e90af4",
   "metadata": {},
   "outputs": [],
   "source": [
    "delta_t = 1./1024\n",
    "inc=np.pi/3\n",
    "#distance=1e6*pc\n",
    "order=3\n",
    "f_lower = 10\n",
    "matchfactor=0.99"
   ]
  },
  {
   "cell_type": "code",
   "execution_count": 7,
   "id": "4371fced",
   "metadata": {},
   "outputs": [],
   "source": [
    "hp, hc = get_td_waveform(approximant='HyperbolicTD',\n",
    "                                 mass1=mass/2,\n",
    "                                 mass2=mass/2,\n",
    "                                 delta_t=delta_t,\n",
    "                                 hyp_eccentricity = eref1,\n",
    "                                 b = bref1,\n",
    "                                 inclination = inc,\n",
    "                                 ui = ui,\n",
    "                                 uf = uf,\n",
    "                                 distance = 1,\n",
    "                                 phase_order = -1,\n",
    "                                 f_lower = f_lower)\n",
    "psd = aLIGOZeroDetHighPower(len(hc) // 2 + 1, 1.0 / hc.duration, f_lower)"
   ]
  },
  {
   "cell_type": "code",
   "execution_count": 8,
   "id": "2bf70952",
   "metadata": {},
   "outputs": [],
   "source": [
    "matches=np.zeros((len(ecc1),len(impacts1)))"
   ]
  },
  {
   "cell_type": "code",
   "execution_count": 9,
   "id": "ddb72e81",
   "metadata": {},
   "outputs": [],
   "source": [
    "# hp2, hc2 = get_td_waveform(approximant='HyperbolicTD',\n",
    "#                                  mass1=mass/2,\n",
    "#                                  mass2=mass/2,\n",
    "#                                  delta_t=delta_t,\n",
    "#                                  hyp_eccentricity = eref1,\n",
    "#                                  b = bref1,\n",
    "#                                  inclination = inc,\n",
    "#                                  ui = ui,\n",
    "#                                  uf = uf,\n",
    "#                                  distance = 1,\n",
    "#                                  phase_order = -1,\n",
    "#                                  f_lower = f_lower)"
   ]
  },
  {
   "cell_type": "code",
   "execution_count": 10,
   "id": "9d5ece18",
   "metadata": {},
   "outputs": [],
   "source": [
    "# hc2 = hc2[:len(hc)] if len(hc) < len(hc2) else hc2\n",
    "# hc2.resize(len(hc))\n",
    "\n",
    "# m, idx = match(hc, hc2, psd=psd, low_frequency_cutoff=f_lower)\n",
    "# m"
   ]
  },
  {
   "cell_type": "code",
   "execution_count": 11,
   "id": "e4e27c66",
   "metadata": {},
   "outputs": [],
   "source": [
    "for i in range(arrlen):\n",
    "    for j in range(arrlen):\n",
    "        hp2, hc2 = get_td_waveform(approximant='HyperbolicTD',\n",
    "                                 mass1=mass/2,\n",
    "                                 mass2=mass/2,\n",
    "                                 delta_t=delta_t,\n",
    "                                 hyp_eccentricity = ecc1[i],\n",
    "                                 b = impacts1[j],\n",
    "                                 inclination = inc,\n",
    "                                 ui = ui,\n",
    "                                 uf = uf,\n",
    "                                 distance = 1,\n",
    "                                 phase_order = -1,\n",
    "                                 f_lower = f_lower)\n",
    "        hc2 = hc2[:len(hc)] if len(hc) < len(hc2) else hc2\n",
    "        hc2.resize(len(hc))\n",
    "\n",
    "        m, idx = match(hc, hc2, psd=psd, low_frequency_cutoff=f_lower)\n",
    "        matches[i,j]=m"
   ]
  },
  {
   "cell_type": "code",
   "execution_count": 12,
   "id": "2be84222",
   "metadata": {},
   "outputs": [],
   "source": [
    "#p1,q1=int(np.where(ecc1==eref1)[0]),int(np.where(bref==brefp)[0])"
   ]
  },
  {
   "cell_type": "code",
   "execution_count": 13,
   "id": "ef0711b5",
   "metadata": {},
   "outputs": [
    {
     "data": {
      "text/plain": [
       "[]"
      ]
     },
     "execution_count": 13,
     "metadata": {},
     "output_type": "execute_result"
    },
    {
     "data": {
      "image/png": "[encoded data removed]",
      "text/plain": [
       "<Figure size 640x480 with 1 Axes>"
      ]
     },
     "metadata": {},
     "output_type": "display_data"
    }
   ],
   "source": [
    "plt.contourf(ecc1, impacts1, matches,[matchfactor,1],alpha=0.4)\n",
    "plt.scatter(eref1,bref1)\n",
    "plt.plot()"
   ]
  },
  {
   "cell_type": "code",
   "execution_count": null,
   "id": "21bc2de7",
   "metadata": {},
   "outputs": [],
   "source": []
  }
 ],
 "metadata": {
  "kernelspec": {
   "display_name": "gwhyp",
   "language": "python",
   "name": "gwhyp"
  },
  "language_info": {
   "codemirror_mode": {
    "name": "ipython",
    "version": 3
   },
   "file_extension": ".py",
   "mimetype": "text/x-python",
   "name": "python",
   "nbconvert_exporter": "python",
   "pygments_lexer": "ipython3",
   "version": "3.10.6"
  }
 },
 "nbformat": 4,
 "nbformat_minor": 5
}

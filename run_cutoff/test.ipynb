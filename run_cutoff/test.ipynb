{
 "cells": [
  {
   "cell_type": "code",
   "execution_count": 1,
   "id": "16d3d9f3",
   "metadata": {},
   "outputs": [],
   "source": [
    "import numpy as np\n",
    "\n",
    "mass=40\n",
    "arrlen=20\n",
    "ui=-2;uf=2\n",
    "q=1;\n",
    "# ui=0;uf=0"
   ]
  },
  {
   "cell_type": "code",
   "execution_count": 2,
   "id": "7c12ea4b",
   "metadata": {},
   "outputs": [],
   "source": [
    "eref1=1.25;bref1=80"
   ]
  },
  {
   "cell_type": "code",
   "execution_count": 15,
   "id": "31987170",
   "metadata": {},
   "outputs": [],
   "source": [
    "ecc1=np.linspace(1.09,1.3,arrlen)\n",
    "\n",
    "impacts1=np.linspace(60,150,arrlen)"
   ]
  },
  {
   "cell_type": "code",
   "execution_count": 17,
   "id": "99f12c1d",
   "metadata": {},
   "outputs": [
    {
     "data": {
      "text/plain": [
       "array([1.09      , 1.10105263, 1.11210526, 1.12315789, 1.13421053,\n",
       "       1.14526316, 1.15631579, 1.16736842, 1.17842105, 1.18947368,\n",
       "       1.20052632, 1.21157895, 1.22263158, 1.23368421, 1.24473684,\n",
       "       1.25578947, 1.26684211, 1.27789474, 1.28894737, 1.3       ])"
      ]
     },
     "execution_count": 17,
     "metadata": {},
     "output_type": "execute_result"
    }
   ],
   "source": [
    "ecc1"
   ]
  },
  {
   "cell_type": "code",
   "execution_count": 19,
   "id": "c0fc9984",
   "metadata": {},
   "outputs": [
    {
     "data": {
      "text/plain": [
       "array([ 60.        ,  64.73684211,  69.47368421,  74.21052632,\n",
       "        78.94736842,  83.68421053,  88.42105263,  93.15789474,\n",
       "        97.89473684, 102.63157895, 107.36842105, 112.10526316,\n",
       "       116.84210526, 121.57894737, 126.31578947, 131.05263158,\n",
       "       135.78947368, 140.52631579, 145.26315789, 150.        ])"
      ]
     },
     "execution_count": 19,
     "metadata": {},
     "output_type": "execute_result"
    }
   ],
   "source": [
    "impacts1"
   ]
  },
  {
   "cell_type": "code",
   "execution_count": 4,
   "id": "c3db0809",
   "metadata": {},
   "outputs": [],
   "source": [
    "# ecc1=np.linspace(1.09,1.4,arrlen)\n",
    "\n",
    "# impacts1=np.linspace(40,150,arrlen)"
   ]
  },
  {
   "cell_type": "code",
   "execution_count": 5,
   "id": "43a0dc9c",
   "metadata": {},
   "outputs": [],
   "source": [
    "# ecc1=np.linspace(1.09,1.4,arrlen)\n",
    "\n",
    "# impacts1=np.linspace(40,150,arrlen)"
   ]
  },
  {
   "cell_type": "code",
   "execution_count": 6,
   "id": "79a847d3",
   "metadata": {},
   "outputs": [],
   "source": [
    "import pycbc.waveform\n",
    "from pycbc.waveform import td_approximants\n",
    "import os\n",
    "import matplotlib.pyplot as plt\n",
    "import pylab\n",
    "from pycbc.filter import match\n",
    "from pycbc.psd import aLIGOZeroDetHighPower\n",
    "#from constants import *\n",
    "from pycbc.waveform import get_td_waveform\n",
    "from multiprocess import Pool\n",
    "import pickle"
   ]
  },
  {
   "cell_type": "code",
   "execution_count": 7,
   "id": "e4e90af4",
   "metadata": {},
   "outputs": [],
   "source": [
    "delta_t = 1./1024\n",
    "inc=np.pi/3\n",
    "#distance=1e6*pc\n",
    "order=3\n",
    "f_lower = 10\n",
    "matchfactor=0.99"
   ]
  },
  {
   "cell_type": "code",
   "execution_count": 8,
   "id": "4371fced",
   "metadata": {},
   "outputs": [],
   "source": [
    "hp, hc = get_td_waveform(approximant='HyperbolicTD',\n",
    "                                 mass1=mass/2,\n",
    "                                 mass2=mass/2,\n",
    "                                 delta_t=delta_t,\n",
    "                                 hyp_eccentricity = eref1,\n",
    "                                 b = bref1,\n",
    "                                 inclination = inc,\n",
    "                                 ui = ui,\n",
    "                                 uf = uf,\n",
    "                                 distance = 1,\n",
    "                                 phase_order = -1,\n",
    "                                 f_lower = f_lower)\n",
    "psd = aLIGOZeroDetHighPower(len(hc) // 2 + 1, 1.0 / hc.duration, f_lower)"
   ]
  },
  {
   "cell_type": "code",
   "execution_count": 20,
   "id": "2bf70952",
   "metadata": {},
   "outputs": [],
   "source": [
    "matches=np.zeros((len(ecc1),len(impacts1)))"
   ]
  },
  {
   "cell_type": "code",
   "execution_count": 21,
   "id": "ddb72e81",
   "metadata": {},
   "outputs": [],
   "source": [
    "# hp2, hc2 = get_td_waveform(approximant='HyperbolicTD',\n",
    "#                                  mass1=mass/2,\n",
    "#                                  mass2=mass/2,\n",
    "#                                  delta_t=delta_t,\n",
    "#                                  hyp_eccentricity = eref1,\n",
    "#                                  b = bref1,\n",
    "#                                  inclination = inc,\n",
    "#                                  ui = ui,\n",
    "#                                  uf = uf,\n",
    "#                                  distance = 1,\n",
    "#                                  phase_order = -1,\n",
    "#                                  f_lower = f_lower)"
   ]
  },
  {
   "cell_type": "code",
   "execution_count": 22,
   "id": "9d5ece18",
   "metadata": {},
   "outputs": [],
   "source": [
    "# hc2 = hc2[:len(hc)] if len(hc) < len(hc2) else hc2\n",
    "# hc2.resize(len(hc))\n",
    "\n",
    "# m, idx = match(hc, hc2, psd=psd, low_frequency_cutoff=f_lower)\n",
    "# m"
   ]
  },
  {
   "cell_type": "code",
   "execution_count": 43,
   "id": "e4e27c66",
   "metadata": {},
   "outputs": [],
   "source": [
    "for i in range(arrlen):\n",
    "    for j in range(arrlen):\n",
    "        hp2, hc2 = get_td_waveform(approximant='HyperbolicTD',\n",
    "                                 mass1=mass/2,\n",
    "                                 mass2=mass/2,\n",
    "                                 delta_t=delta_t,\n",
    "                                 hyp_eccentricity = ecc1[i],\n",
    "                                 b = impacts1[j],\n",
    "                                 inclination = inc,\n",
    "                                 ui = ui,\n",
    "                                 uf = uf,\n",
    "                                 distance = 1,\n",
    "                                 phase_order = -1,\n",
    "                                 f_lower = f_lower)\n",
    "        hc2 = hc2[:len(hc)] if len(hc) < len(hc2) else hc2\n",
    "        hc2.resize(len(hc))\n",
    "\n",
    "        m, idx = match(hc, hc2, psd=psd, low_frequency_cutoff=f_lower)\n",
    "        matches[i,j]=m"
   ]
  },
  {
   "cell_type": "code",
   "execution_count": 56,
   "id": "219fa5c6",
   "metadata": {},
   "outputs": [
    {
     "data": {
      "text/plain": [
       "(array([ 5,  5,  5,  6,  6,  7,  7,  7,  8,  8,  9,  9,  9, 10, 10, 10, 11,\n",
       "        11, 12, 12, 12, 13, 13, 13, 14, 14, 15, 15, 15, 16, 16, 16, 17, 17,\n",
       "        18, 18, 19, 19, 19]),\n",
       " array([7, 8, 9, 7, 8, 6, 7, 8, 6, 7, 5, 6, 7, 5, 6, 7, 5, 6, 4, 5, 6, 4,\n",
       "        5, 6, 4, 5, 3, 4, 5, 3, 4, 5, 3, 4, 3, 4, 2, 3, 4]))"
      ]
     },
     "execution_count": 56,
     "metadata": {},
     "output_type": "execute_result"
    }
   ],
   "source": [
    "ind=np.where(matches>=0.99)\n",
    "ind"
   ]
  },
  {
   "cell_type": "code",
   "execution_count": 60,
   "id": "31926edc",
   "metadata": {},
   "outputs": [
    {
     "data": {
      "image/png": "[encoded data removed]",
      "text/plain": [
       "<Figure size 640x480 with 1 Axes>"
      ]
     },
     "metadata": {},
     "output_type": "display_data"
    }
   ],
   "source": [
    "plt.scatter(ecc1[ind[0]],impacts1[ind[1]])\n",
    "plt.scatter(eref1,bref1,color='g')\n",
    "plt.show()"
   ]
  },
  {
   "cell_type": "code",
   "execution_count": null,
   "id": "61b03acf",
   "metadata": {},
   "outputs": [],
   "source": [
    "plt.plot(ecc)"
   ]
  },
  {
   "cell_type": "code",
   "execution_count": 47,
   "id": "8d4f22d6",
   "metadata": {},
   "outputs": [],
   "source": [
    "A=np.array([[1,2],[3,4]])"
   ]
  },
  {
   "cell_type": "code",
   "execution_count": 50,
   "id": "f322498e",
   "metadata": {},
   "outputs": [
    {
     "data": {
      "text/plain": [
       "(array([0, 1, 1]), array([1, 0, 1]))"
      ]
     },
     "execution_count": 50,
     "metadata": {},
     "output_type": "execute_result"
    }
   ],
   "source": [
    "np.where(A>1)"
   ]
  },
  {
   "cell_type": "code",
   "execution_count": null,
   "id": "577d9459",
   "metadata": {},
   "outputs": [],
   "source": []
  },
  {
   "cell_type": "code",
   "execution_count": 24,
   "id": "2be84222",
   "metadata": {},
   "outputs": [
    {
     "ename": "TypeError",
     "evalue": "only size-1 arrays can be converted to Python scalars",
     "output_type": "error",
     "traceback": [
      "\u001b[0;31m---------------------------------------------------------------------------\u001b[0m",
      "\u001b[0;31mTypeError\u001b[0m                                 Traceback (most recent call last)",
      "Input \u001b[0;32mIn [24]\u001b[0m, in \u001b[0;36m<cell line: 1>\u001b[0;34m()\u001b[0m\n\u001b[0;32m----> 1\u001b[0m p1,q1\u001b[38;5;241m=\u001b[39m\u001b[38;5;28;43mint\u001b[39;49m\u001b[43m(\u001b[49m\u001b[43mnp\u001b[49m\u001b[38;5;241;43m.\u001b[39;49m\u001b[43mwhere\u001b[49m\u001b[43m(\u001b[49m\u001b[43mecc1\u001b[49m\u001b[38;5;241;43m==\u001b[39;49m\u001b[43meref1\u001b[49m\u001b[43m)\u001b[49m\u001b[43m[\u001b[49m\u001b[38;5;241;43m0\u001b[39;49m\u001b[43m]\u001b[49m\u001b[43m)\u001b[49m,\u001b[38;5;28mint\u001b[39m(np\u001b[38;5;241m.\u001b[39mwhere(bref\u001b[38;5;241m==\u001b[39mbrefp)[\u001b[38;5;241m0\u001b[39m])\n",
      "\u001b[0;31mTypeError\u001b[0m: only size-1 arrays can be converted to Python scalars"
     ]
    }
   ],
   "source": [
    "p1,q1=int(np.where(ecc1==eref1)[0]),int(np.where(bref==brefp)[0])"
   ]
  },
  {
   "cell_type": "code",
   "execution_count": 41,
   "id": "e10ce67a",
   "metadata": {},
   "outputs": [
    {
     "data": {
      "text/plain": [
       "(14, 4, 1.2447368421052631, 78.94736842105263, 0.9990192826804811)"
      ]
     },
     "execution_count": 41,
     "metadata": {},
     "output_type": "execute_result"
    }
   ],
   "source": [
    "p1=np.where(ecc1<=eref1)[0][-1];q1=np.where(impacts1<=bref1)[0][-1]\n",
    "p1,q1,ecc1[p1],impacts1[q1],matches[p1,q1]"
   ]
  },
  {
   "cell_type": "code",
   "execution_count": 42,
   "id": "9ce56939",
   "metadata": {},
   "outputs": [
    {
     "data": {
      "text/plain": [
       "(13, 3, 1.2336842105263157, 74.21052631578948, 0.9832046394871864)"
      ]
     },
     "execution_count": 42,
     "metadata": {},
     "output_type": "execute_result"
    }
   ],
   "source": [
    "p1-1,q1-1,ecc1[p1-1],impacts1[q1-1],matches[p1-1,q1-1]"
   ]
  },
  {
   "cell_type": "code",
   "execution_count": 39,
   "id": "f59d7411",
   "metadata": {},
   "outputs": [],
   "source": [
    "[ecc, impacts] = np.meshgrid(ecc1, impacts1)"
   ]
  },
  {
   "cell_type": "code",
   "execution_count": 63,
   "id": "ef0711b5",
   "metadata": {},
   "outputs": [
    {
     "data": {
      "text/plain": [
       "[]"
      ]
     },
     "execution_count": 63,
     "metadata": {},
     "output_type": "execute_result"
    },
    {
     "data": {
      "image/png": "[encoded data removed]",
      "text/plain": [
       "<Figure size 640x480 with 2 Axes>"
      ]
     },
     "metadata": {},
     "output_type": "display_data"
    }
   ],
   "source": [
    "cp =plt.contourf(ecc, impacts, matches)\n",
    "plt.scatter(eref1,bref1)\n",
    "cbar = plt.colorbar(cp)\n",
    "plt.plot()"
   ]
  },
  {
   "cell_type": "code",
   "execution_count": null,
   "id": "21bc2de7",
   "metadata": {},
   "outputs": [],
   "source": []
  }
 ],
 "metadata": {
  "kernelspec": {
   "display_name": "gwhyp",
   "language": "python",
   "name": "gwhyp"
  },
  "language_info": {
   "codemirror_mode": {
    "name": "ipython",
    "version": 3
   },
   "file_extension": ".py",
   "mimetype": "text/x-python",
   "name": "python",
   "nbconvert_exporter": "python",
   "pygments_lexer": "ipython3",
   "version": "3.10.6"
  }
 },
 "nbformat": 4,
 "nbformat_minor": 5
}

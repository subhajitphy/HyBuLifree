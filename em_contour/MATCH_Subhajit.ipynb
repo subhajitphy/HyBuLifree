{
 "cells": [
  {
   "cell_type": "code",
   "execution_count": 1,
   "id": "e9c936db",
   "metadata": {},
   "outputs": [],
   "source": [
    "import numpy as np\n",
    "import os\n",
    "impact=60;ecc=1.3;M=70;ncore=8\n",
    "arrlen=50\n",
    "\n",
    "q=1;"
   ]
  },
  {
   "cell_type": "code",
   "execution_count": 2,
   "id": "d733a529",
   "metadata": {},
   "outputs": [],
   "source": [
    "masses=np.linspace(60,80,arrlen)\n",
    "eccs=np.linspace(1.1,1.4,arrlen)"
   ]
  },
  {
   "cell_type": "code",
   "execution_count": 3,
   "id": "26d139aa",
   "metadata": {},
   "outputs": [],
   "source": [
    "os.chdir('../gwhyp/')\n",
    "import pycbc.waveform\n",
    "from pycbc.waveform import td_approximants\n",
    "import os\n",
    "import matplotlib.pyplot as plt\n",
    "import pylab\n",
    "from pycbc.filter import match\n",
    "from pycbc.psd import aLIGOZeroDetHighPower\n",
    "from constants import *\n",
    "from tqdm import tqdm\n",
    "from pycbc.waveform import get_td_waveform\n",
    "from multiprocess import Pool\n",
    "import pickle\n",
    "from hyp_td_waveform_v2 import get_hyp_waveform\n",
    "os.chdir('../em_contour/')"
   ]
  },
  {
   "cell_type": "code",
   "execution_count": 4,
   "id": "26f89eac",
   "metadata": {},
   "outputs": [],
   "source": [
    "fn='file_b_'+str(impact)+'_ref_M'+str(M)+'_ref_e_'+str(ecc)+'_hc2.pkl'\n",
    "os.remove(fn) if os.path.exists(fn) else None  #here fn - filename or filepath"
   ]
  },
  {
   "cell_type": "code",
   "execution_count": 5,
   "id": "1ee89c42",
   "metadata": {},
   "outputs": [],
   "source": [
    "approximant = 'HyperbolicTD'\n",
    "\n",
    "f_lower = 10\n",
    "delta_t = 1./1024\n",
    "inc=pi/3\n",
    "distance=1e6*pc\n",
    "order=3\n",
    "f_lower = 10\n",
    "matchfactor=0.99\n",
    "\n",
    "hp,hc=get_hyp_waveform(M,q,ecc, impact,  delta_t, inc, distance, order)\n",
    "\n",
    "psd = aLIGOZeroDetHighPower(len(hc) // 2 + 1, 1.0 / hc.duration, f_lower)\n",
    "\n",
    "masses,eccs=np.meshgrid(masses,eccs)\n",
    "\n",
    "def cal_match_me(M,e):\n",
    "    \n",
    "#     hp2,hc2=get_td_waveform(approximant=approximant,\n",
    "#                              mass1=M/2, mass2=M/2,\n",
    "#                              delta_t=delta_t,\n",
    "#                              hyp_eccentricity = e,\n",
    "#                              b = b,f_lower = f_lower)\n",
    "    hp2,hc2=get_hyp_waveform(M,q,e, impact,  delta_t, inc, distance, order)\n",
    "    hc2 = hc2[:len(hc)] if len(hc) < len(hc2) else hc2\n",
    "    hc2.resize(len(hc))\n",
    "\n",
    "    m, idx = match(hc, hc2, psd=psd, low_frequency_cutoff=f_lower)\n",
    "    return m\n",
    "\n",
    "arr2=np.zeros((arrlen,arrlen))\n",
    "\n",
    "peakfile = open(fn, 'ab')\n",
    "\n",
    "\n",
    "if __name__ == \"__main__\":\n",
    "\n",
    "    pool = Pool(ncore)\n",
    "    results = pool.map(lambda t : cal_match_me(t[0],t[1]), \n",
    "                       [(masses[i][j],eccs[i][j])\n",
    "                        for i in range(arrlen) for j in range(arrlen)] )\n",
    "\n",
    "    pickle.dump(np.array(results).reshape((arrlen,arrlen)),peakfile)\n",
    "    peakfile.close()\n",
    "\n",
    "arr2 = pickle.load(open(fn, 'rb'))"
   ]
  },
  {
   "cell_type": "code",
   "execution_count": 6,
   "id": "10617c6a",
   "metadata": {},
   "outputs": [
    {
     "data": {
      "image/png": "[encoded data removed]",
      "text/plain": [
       "<Figure size 1000x700 with 1 Axes>"
      ]
     },
     "metadata": {},
     "output_type": "display_data"
    }
   ],
   "source": [
    "fig1=plt.figure(figsize=(10,7))\n",
    "plt.title('b='+str(impact))\n",
    "plt.contourf(masses, eccs, arr2,[0.97,1],alpha=0.1)\n",
    "plt.scatter(M,ecc)\n",
    "plt.xlabel('m')\n",
    "plt.ylabel('e')\n",
    "plt.savefig('file_b_'+str(impact)+'_ref_M'+str(M)+'_ref_e_'+str(ecc)+'_hc2.png',dpi=300)\n",
    "plt.show()"
   ]
  },
  {
   "cell_type": "code",
   "execution_count": null,
   "id": "91e7efe9",
   "metadata": {},
   "outputs": [],
   "source": []
  }
 ],
 "metadata": {
  "kernelspec": {
   "display_name": "gwhyp",
   "language": "python",
   "name": "gwhyp"
  },
  "language_info": {
   "codemirror_mode": {
    "name": "ipython",
    "version": 3
   },
   "file_extension": ".py",
   "mimetype": "text/x-python",
   "name": "python",
   "nbconvert_exporter": "python",
   "pygments_lexer": "ipython3",
   "version": "3.10.6"
  }
 },
 "nbformat": 4,
 "nbformat_minor": 5
}
